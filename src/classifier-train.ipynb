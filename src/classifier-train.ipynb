{
 "cells": [
  {
   "cell_type": "code",
   "execution_count": 1,
   "metadata": {},
   "outputs": [],
   "source": [
    "import pandas as pd"
   ]
  },
  {
   "cell_type": "code",
   "execution_count": 2,
   "metadata": {},
   "outputs": [],
   "source": [
    "from sklearn.ensemble import RandomForestClassifier\n",
    "from sklearn.model_selection import GroupKFold"
   ]
  },
  {
   "cell_type": "code",
   "execution_count": 3,
   "metadata": {},
   "outputs": [],
   "source": [
    "from sklearn import metrics"
   ]
  },
  {
   "cell_type": "code",
   "execution_count": 4,
   "metadata": {},
   "outputs": [],
   "source": [
    "import pickle"
   ]
  },
  {
   "cell_type": "code",
   "execution_count": 5,
   "metadata": {},
   "outputs": [],
   "source": [
    "ds = pd.read_csv(\"D://programming//information-technologies-of-smart-systems//practice//practice-5//final-project//data//train_data.csv\")"
   ]
  },
  {
   "cell_type": "code",
   "execution_count": 6,
   "metadata": {},
   "outputs": [],
   "source": [
    "y_column = ['AdoptionSpeed'] # target variable\n",
    "\n",
    "X_columns = ['Type', 'Age', 'Gender', 'MaturitySize', 'FurLength', 'Vaccinated', 'Dewormed',\n",
    "              'Sterilized', 'Health', 'Quantity', 'Fee', 'State', 'VideoAmt', 'PhotoAmt',\n",
    "              'ColorName_x', 'ColorName_y', 'ColorName', 'BreedName_x', 'BreedName_y', 'StateName_x']"
   ]
  },
  {
   "cell_type": "code",
   "execution_count": 7,
   "metadata": {},
   "outputs": [],
   "source": [
    "X = ds[X_columns]\n",
    "y = ds[y_column]"
   ]
  },
  {
   "cell_type": "code",
   "execution_count": 27,
   "metadata": {},
   "outputs": [
    {
     "name": "stdout",
     "output_type": "stream",
     "text": [
      "Uniq Sterilized for test  [2]\n",
      "Group k-fold set metrics:                precision    recall  f1-score   support\n",
      "\n",
      "           0       0.00      0.00      0.00        30\n",
      "           1       0.27      0.06      0.10       188\n",
      "           2       0.28      0.10      0.15       211\n",
      "           3       0.26      0.24      0.25       164\n",
      "           4       0.20      0.63      0.31       150\n",
      "\n",
      "    accuracy                           0.23       743\n",
      "   macro avg       0.20      0.21      0.16       743\n",
      "weighted avg       0.25      0.23      0.19       743\n",
      "\n",
      "Uniq Sterilized for test  [1]\n",
      "Group k-fold set metrics:                precision    recall  f1-score   support\n",
      "\n",
      "           0       0.00      0.00      0.00        14\n",
      "           1       0.03      0.10      0.05        10\n",
      "           2       0.20      0.20      0.20        44\n",
      "           3       0.17      0.15      0.16        41\n",
      "           4       0.48      0.44      0.46        88\n",
      "\n",
      "    accuracy                           0.28       197\n",
      "   macro avg       0.18      0.18      0.17       197\n",
      "weighted avg       0.30      0.28      0.29       197\n",
      "\n",
      "Uniq Sterilized for test  [3]\n",
      "Group k-fold set metrics:                precision    recall  f1-score   support\n",
      "\n",
      "           0       0.50      0.25      0.33         4\n",
      "           1       0.24      0.37      0.29        27\n",
      "           2       0.04      0.04      0.04        25\n",
      "           3       0.22      0.21      0.21        24\n",
      "           4       0.52      0.42      0.47        64\n",
      "\n",
      "    accuracy                           0.31       144\n",
      "   macro avg       0.30      0.26      0.27       144\n",
      "weighted avg       0.33      0.31      0.31       144\n",
      "\n"
     ]
    }
   ],
   "source": [
    "# GroupKFold cross-validation\n",
    "gkf = GroupKFold(n_splits=3)\n",
    "\n",
    "# Відкриття файлу для допису результатів\n",
    "with open(\"D:/programming/information-technologies-of-smart-systems/practice/practice-5/final-project/src/metrics_results.txt\", \"a\") as file:\n",
    "    for train_index, test_index in gkf.split(X, y, groups=X['Sterilized']):\n",
    "        print('Uniq Sterilized for test ', X.iloc[test_index]['Sterilized'].unique())\n",
    "        classifier = RandomForestClassifier() \n",
    "        # Training the classifier\n",
    "        classifier.fit(X.iloc[train_index], y.iloc[train_index].values.ravel())\n",
    "        # Predicting labels for the test set\n",
    "        y_pred = classifier.predict(X.iloc[test_index])\n",
    "        # save metrics to file\n",
    "        metrics_result = metrics.classification_report(y.iloc[test_index], y_pred, output_dict=True)\n",
    "        file.write(\"Group k-fold set metrics:\\n\")\n",
    "        file.write(str(metrics_result) + \"\\n\\n\")\n",
    "        # print metrics to console\n",
    "        print('Group k-fold set metrics: ', metrics_result)\n"
   ]
  },
  {
   "cell_type": "code",
   "execution_count": null,
   "metadata": {},
   "outputs": [],
   "source": [
    "with open('D:/programming/information-technologies-of-smart-systems/practice/practice-5/final-project/models/finalized_model.sav', 'wb') as file:\n",
    "    pickle.dump(classifier, file)"
   ]
  }
 ],
 "metadata": {
  "kernelspec": {
   "display_name": "Python 3",
   "language": "python",
   "name": "python3"
  },
  "language_info": {
   "codemirror_mode": {
    "name": "ipython",
    "version": 3
   },
   "file_extension": ".py",
   "mimetype": "text/x-python",
   "name": "python",
   "nbconvert_exporter": "python",
   "pygments_lexer": "ipython3",
   "version": "3.11.5"
  }
 },
 "nbformat": 4,
 "nbformat_minor": 2
}
