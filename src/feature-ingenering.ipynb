{
 "cells": [
  {
   "cell_type": "code",
   "execution_count": 22,
   "metadata": {},
   "outputs": [],
   "source": [
    "import pandas as pd\n",
    "import numpy as np\n",
    "import matplotlib.pyplot as plt"
   ]
  },
  {
   "cell_type": "code",
   "execution_count": 23,
   "metadata": {},
   "outputs": [],
   "source": [
    "ds_copy = pd.read_csv(\"D://programming//information-technologies-of-smart-systems//practice//practice-5//data//train_data.csv\")"
   ]
  },
  {
   "cell_type": "code",
   "execution_count": 36,
   "metadata": {},
   "outputs": [],
   "source": [
    "missing = list()\n",
    "total_records = len(ds_copy)\n",
    "\n",
    "for x in ds_copy.columns:\n",
    "    missing_count = ds_copy[x].isnull().sum()\n",
    "    if missing_count != 0:\n",
    "        percent_missing = (missing_count / total_records) * 100\n",
    "        print(f\"{x}: {missing_count} missing ({percent_missing:.2f}% of total)\")\n",
    "        missing.append((x, percent_missing))"
   ]
  },
  {
   "cell_type": "code",
   "execution_count": 25,
   "metadata": {},
   "outputs": [],
   "source": [
    "ds_copy['Gender'].fillna(2, inplace=True)"
   ]
  },
  {
   "cell_type": "code",
   "execution_count": 26,
   "metadata": {},
   "outputs": [],
   "source": [
    "ds_copy['MaturitySize'].fillna(0, inplace=True)"
   ]
  },
  {
   "cell_type": "code",
   "execution_count": 27,
   "metadata": {},
   "outputs": [],
   "source": [
    "ds_copy['BreedName_x'].fillna('Missing', inplace=True)"
   ]
  },
  {
   "cell_type": "code",
   "execution_count": 28,
   "metadata": {},
   "outputs": [],
   "source": [
    "ds_copy['BreedName_y'].fillna('Missing', inplace=True)"
   ]
  },
  {
   "cell_type": "code",
   "execution_count": 29,
   "metadata": {},
   "outputs": [],
   "source": [
    "ds_copy['ColorName'].fillna('Missing', inplace=True)"
   ]
  },
  {
   "cell_type": "code",
   "execution_count": 31,
   "metadata": {},
   "outputs": [],
   "source": [
    "ds_copy.drop('RescuerID', axis=1, inplace=True)"
   ]
  },
  {
   "cell_type": "code",
   "execution_count": 32,
   "metadata": {},
   "outputs": [],
   "source": [
    "ds_copy.drop('PetID', axis=1, inplace=True)"
   ]
  },
  {
   "cell_type": "code",
   "execution_count": 33,
   "metadata": {},
   "outputs": [],
   "source": [
    "ds_copy.drop('Description', axis=1, inplace=True)"
   ]
  },
  {
   "cell_type": "code",
   "execution_count": 34,
   "metadata": {},
   "outputs": [],
   "source": [
    "ds_copy.drop('Unnamed: 0', axis=1, inplace=True)"
   ]
  },
  {
   "cell_type": "code",
   "execution_count": 35,
   "metadata": {},
   "outputs": [],
   "source": [
    "ds_copy.drop('Name', axis=1, inplace=True)"
   ]
  },
  {
   "cell_type": "code",
   "execution_count": 37,
   "metadata": {},
   "outputs": [],
   "source": [
    "ordinal_mapping = {\n",
    "            'Selangor': 0,\n",
    "            'Kuala Lumpur': 1,\n",
    "            'Pulau Pinang': 2,\n",
    "            'Johor': 3,\n",
    "            'Perak': 4,\n",
    "            'Terengganu': 5,\n",
    "            'Kedah': 6,\n",
    "            'Negeri Sembilan': 7,\n",
    "            'Melaka': 8,\n",
    "            'Pahang': 9,\n",
    "            'Sarawak': 10,\n",
    "            'Kelantan': 11\n",
    "        }\n",
    "\n",
    "ds_copy['StateName_x'] = ds_copy['StateName_x'].map(ordinal_mapping)"
   ]
  },
  {
   "cell_type": "code",
   "execution_count": 38,
   "metadata": {},
   "outputs": [],
   "source": [
    "def integer_encode(train, variable, ordinal_mapping):\n",
    "    train[variable] = train[variable].map(ordinal_mapping)"
   ]
  },
  {
   "cell_type": "code",
   "execution_count": 39,
   "metadata": {},
   "outputs": [],
   "source": [
    "color_dict = {'Cream': 1, 'Missing': 2, 'White': 3, 'Golden': 4, 'Brown': 5, 'Black': 6, 'Gray': 7, 'Yellow': 8}\n",
    "\n",
    "for variable in ['ColorName_x', 'ColorName_y','ColorName']:\n",
    "    integer_encode(ds_copy, variable, color_dict)"
   ]
  },
  {
   "cell_type": "code",
   "execution_count": 40,
   "metadata": {},
   "outputs": [],
   "source": [
    "breed_dict = {'Dachshund': 1, 'Mastiff': 2, 'Turkish Angora': 3, 'Snowshoe': 4, 'Silver': 5, 'Rottweiler': 6, 'German Spitz': 7, 'Spaniel': 8, 'Persian': 9, 'Pixie-Bob': 10, 'Cavalier King Charles Spaniel': 11, 'Balinese': 12, 'Abyssinian': 13, 'Lancashire Heeler': 14, 'Tonkinese': 15, 'Siberian': 16, 'Dilute Calico': 17, 'Black Mouth Cur': 18, 'Harrier': 19, 'Shetland Sheepdog Sheltie': 20, 'Hound': 21, 'Australian Cattle Dog/Blue Heeler': 22, 'Extra-Toes Cat (Hemingway Polydactyl)': 23, 'American Curl': 24, 'Husky': 25, 'Tuxedo': 26, 'Bullmastiff': 27, 'Applehead Siamese': 28, 'Chartreux': 29, 'Chinese Crested Dog': 30, 'Singapura': 31, 'Calico': 32, 'Collie': 33, 'Yorkshire Terrier Yorkie': 34, 'Smooth Fox Terrier': 35, 'Irish Terrier': 36, 'Pomeranian': 37, 'Chihuahua': 38, 'Tiger': 39, 'Setter': 40, 'Afghan Hound': 41, 'Rat Terrier': 42, 'Belgian Shepherd Malinois': 43, 'Sheep Dog': 44, 'Domestic Long Hair': 45, 'Shih Tzu': 46, 'British Shorthair': 47, 'Australian Terrier': 48, 'Manx': 49, 'Japanese Bobtail': 50, 'Mixed Breed': 51, 'Shepherd': 52, 'Lowchen': 53, 'Basset Hound': 54, 'Tabby': 55, 'Flat-coated Retriever': 56, 'Bull Terrier': 57, 'Egyptian Mau': 58, 'Doberman Pinscher': 59, 'Dilute Tortoiseshell': 60, 'Exotic Shorthair': 61, 'Bengal': 62, 'Welsh Corgi': 63, 'Norwegian Forest Cat': 64, 'Rhodesian Ridgeback': 65, 'Missing': 66, 'Maltese': 67, 'Spitz': 68, 'Oriental Short Hair': 69, 'Maine Coon': 70, 'Fox Terrier': 71, 'Border Collie': 72, 'Burmilla': 73, 'Domestic Medium Hair': 74, 'Toy Fox Terrier': 75, 'Boxer': 76, 'Shar Pei': 77, 'Siamese': 78, 'Great Dane': 79, 'Russian Blue': 80, 'Dalmatian': 81, 'Whippet': 82, 'Terrier': 83, 'Labrador Retriever': 84, 'Retriever': 85, 'Bobtail': 86, 'Jack Russell Terrier': 87, 'Pit Bull Terrier': 88, 'Scottish Fold': 89, 'Poodle': 90, 'Silky Terrier': 91, 'Schnauzer': 92, 'Tortoiseshell': 93, 'Oriental Tabby': 94, 'Belgian Shepherd Dog Sheepdog': 95, 'Finnish Spitz': 96, 'American Wirehair': 97, 'Himalayan': 98, 'Bluetick Coonhound': 99, 'Pekingese': 100, 'Corgi': 101, 'Jack Russell Terrier (Parson Russell Terrier)': 102, 'Oriental Long Hair': 103, 'Beagle': 104, 'Pointer': 105, 'German Shepherd Dog': 106, 'Ragdoll': 107, 'Cocker Spaniel': 108, 'Turkish Van': 109, 'Domestic Short Hair': 110, 'Miniature Pinscher': 111, 'German Shorthaired Pointer': 112, 'Pug': 113, 'Golden Retriever': 114, 'Kuvasz': 115, 'Australian Kelpie': 116, 'Torbie': 117, 'Korat': 118, 'American Shorthair': 119, 'Siberian Husky': 120, 'Birman': 121, 'Glen of Imaal Terrier': 122, 'Burmese': 123}\n",
    "\n",
    "\n",
    "for variable in ['BreedName_x', 'BreedName_y']:\n",
    "    integer_encode(ds_copy, variable, breed_dict)"
   ]
  },
  {
   "cell_type": "code",
   "execution_count": 41,
   "metadata": {},
   "outputs": [],
   "source": [
    "ds_copy.to_csv(\"D://programming//information-technologies-of-smart-systems//practice//practice-5//data//train_data.csv\", index=False)"
   ]
  }
 ],
 "metadata": {
  "kernelspec": {
   "display_name": "Python 3",
   "language": "python",
   "name": "python3"
  },
  "language_info": {
   "codemirror_mode": {
    "name": "ipython",
    "version": 3
   },
   "file_extension": ".py",
   "mimetype": "text/x-python",
   "name": "python",
   "nbconvert_exporter": "python",
   "pygments_lexer": "ipython3",
   "version": "3.11.5"
  }
 },
 "nbformat": 4,
 "nbformat_minor": 2
}
